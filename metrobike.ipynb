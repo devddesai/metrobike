{
 "cells": [
  {
   "cell_type": "code",
   "execution_count": 1,
   "metadata": {},
   "outputs": [],
   "source": [
    "from mesa import Agent, Model\n",
    "from mesa.space import NetworkGrid\n",
    "from mesa.time import RandomActivation\n",
    "from mesa.datacollection import DataCollector\n",
    "import networkx as nx\n",
    "import graph_init\n",
    "import pandas as pd\n",
    "import station as st\n",
    "\n",
    "import network_example as ne\n",
    "import numpy as np\n",
    "import pathfinding as pf\n",
    "import graph_functions as gf\n",
    "import matplotlib.pyplot as plt\n",
    "import particle_swarm as ps\n",
    "import model as m\n",
    "import commuter as c"
   ]
  },
  {
   "cell_type": "code",
   "execution_count": 2,
   "metadata": {},
   "outputs": [
    {
     "data": {
      "text/html": [
       "<div>\n",
       "<style scoped>\n",
       "    .dataframe tbody tr th:only-of-type {\n",
       "        vertical-align: middle;\n",
       "    }\n",
       "\n",
       "    .dataframe tbody tr th {\n",
       "        vertical-align: top;\n",
       "    }\n",
       "\n",
       "    .dataframe thead th {\n",
       "        text-align: right;\n",
       "    }\n",
       "</style>\n",
       "<table border=\"1\" class=\"dataframe\">\n",
       "  <thead>\n",
       "    <tr style=\"text-align: right;\">\n",
       "      <th></th>\n",
       "      <th></th>\n",
       "      <th>Distance_Left</th>\n",
       "      <th>Position</th>\n",
       "      <th>Intermediate_Node</th>\n",
       "      <th>Destination</th>\n",
       "      <th>All Station Capacity</th>\n",
       "      <th>Biking</th>\n",
       "      <th>Park Failures</th>\n",
       "    </tr>\n",
       "    <tr>\n",
       "      <th>Step</th>\n",
       "      <th>AgentID</th>\n",
       "      <th></th>\n",
       "      <th></th>\n",
       "      <th></th>\n",
       "      <th></th>\n",
       "      <th></th>\n",
       "      <th></th>\n",
       "      <th></th>\n",
       "    </tr>\n",
       "  </thead>\n",
       "  <tbody>\n",
       "    <tr>\n",
       "      <th rowspan=\"5\" valign=\"top\">0</th>\n",
       "      <th>1</th>\n",
       "      <td>50.0</td>\n",
       "      <td>5</td>\n",
       "      <td>1</td>\n",
       "      <td>6</td>\n",
       "      <td>[0:{3}, 1:{3}, 2:{3}, 3:{3}]</td>\n",
       "      <td>False</td>\n",
       "      <td>0</td>\n",
       "    </tr>\n",
       "    <tr>\n",
       "      <th>2</th>\n",
       "      <td>50.0</td>\n",
       "      <td>4</td>\n",
       "      <td>0</td>\n",
       "      <td>7</td>\n",
       "      <td>[0:{3}, 1:{3}, 2:{3}, 3:{3}]</td>\n",
       "      <td>False</td>\n",
       "      <td>0</td>\n",
       "    </tr>\n",
       "    <tr>\n",
       "      <th>3</th>\n",
       "      <td>50.0</td>\n",
       "      <td>6</td>\n",
       "      <td>2</td>\n",
       "      <td>4</td>\n",
       "      <td>[0:{3}, 1:{3}, 2:{3}, 3:{3}]</td>\n",
       "      <td>False</td>\n",
       "      <td>0</td>\n",
       "    </tr>\n",
       "    <tr>\n",
       "      <th>4</th>\n",
       "      <td>50.0</td>\n",
       "      <td>4</td>\n",
       "      <td>0</td>\n",
       "      <td>7</td>\n",
       "      <td>[0:{3}, 1:{3}, 2:{3}, 3:{3}]</td>\n",
       "      <td>False</td>\n",
       "      <td>0</td>\n",
       "    </tr>\n",
       "    <tr>\n",
       "      <th>5</th>\n",
       "      <td>50.0</td>\n",
       "      <td>7</td>\n",
       "      <td>3</td>\n",
       "      <td>5</td>\n",
       "      <td>[0:{3}, 1:{3}, 2:{3}, 3:{3}]</td>\n",
       "      <td>False</td>\n",
       "      <td>0</td>\n",
       "    </tr>\n",
       "    <tr>\n",
       "      <th>...</th>\n",
       "      <th>...</th>\n",
       "      <td>...</td>\n",
       "      <td>...</td>\n",
       "      <td>...</td>\n",
       "      <td>...</td>\n",
       "      <td>...</td>\n",
       "      <td>...</td>\n",
       "      <td>...</td>\n",
       "    </tr>\n",
       "    <tr>\n",
       "      <th rowspan=\"5\" valign=\"top\">1000</th>\n",
       "      <th>96</th>\n",
       "      <td>41.0</td>\n",
       "      <td>2</td>\n",
       "      <td>6</td>\n",
       "      <td>6</td>\n",
       "      <td>[0:{3}, 1:{0}, 2:{2}, 3:{2}]</td>\n",
       "      <td>False</td>\n",
       "      <td>0</td>\n",
       "    </tr>\n",
       "    <tr>\n",
       "      <th>97</th>\n",
       "      <td>4.0</td>\n",
       "      <td>1</td>\n",
       "      <td>5</td>\n",
       "      <td>5</td>\n",
       "      <td>[0:{3}, 1:{0}, 2:{2}, 3:{2}]</td>\n",
       "      <td>False</td>\n",
       "      <td>0</td>\n",
       "    </tr>\n",
       "    <tr>\n",
       "      <th>98</th>\n",
       "      <td>37.0</td>\n",
       "      <td>5</td>\n",
       "      <td>1</td>\n",
       "      <td>6</td>\n",
       "      <td>[0:{3}, 1:{0}, 2:{2}, 3:{2}]</td>\n",
       "      <td>False</td>\n",
       "      <td>0</td>\n",
       "    </tr>\n",
       "    <tr>\n",
       "      <th>99</th>\n",
       "      <td>18.0</td>\n",
       "      <td>4</td>\n",
       "      <td>0</td>\n",
       "      <td>6</td>\n",
       "      <td>[0:{3}, 1:{0}, 2:{2}, 3:{2}]</td>\n",
       "      <td>False</td>\n",
       "      <td>0</td>\n",
       "    </tr>\n",
       "    <tr>\n",
       "      <th>100</th>\n",
       "      <td>29.0</td>\n",
       "      <td>3</td>\n",
       "      <td>7</td>\n",
       "      <td>7</td>\n",
       "      <td>[0:{3}, 1:{0}, 2:{2}, 3:{2}]</td>\n",
       "      <td>False</td>\n",
       "      <td>0</td>\n",
       "    </tr>\n",
       "  </tbody>\n",
       "</table>\n",
       "<p>100100 rows × 7 columns</p>\n",
       "</div>"
      ],
      "text/plain": [
       "              Distance_Left  Position  Intermediate_Node  Destination  \\\n",
       "Step AgentID                                                            \n",
       "0    1                 50.0         5                  1            6   \n",
       "     2                 50.0         4                  0            7   \n",
       "     3                 50.0         6                  2            4   \n",
       "     4                 50.0         4                  0            7   \n",
       "     5                 50.0         7                  3            5   \n",
       "...                     ...       ...                ...          ...   \n",
       "1000 96                41.0         2                  6            6   \n",
       "     97                 4.0         1                  5            5   \n",
       "     98                37.0         5                  1            6   \n",
       "     99                18.0         4                  0            6   \n",
       "     100               29.0         3                  7            7   \n",
       "\n",
       "                      All Station Capacity  Biking  Park Failures  \n",
       "Step AgentID                                                       \n",
       "0    1        [0:{3}, 1:{3}, 2:{3}, 3:{3}]   False              0  \n",
       "     2        [0:{3}, 1:{3}, 2:{3}, 3:{3}]   False              0  \n",
       "     3        [0:{3}, 1:{3}, 2:{3}, 3:{3}]   False              0  \n",
       "     4        [0:{3}, 1:{3}, 2:{3}, 3:{3}]   False              0  \n",
       "     5        [0:{3}, 1:{3}, 2:{3}, 3:{3}]   False              0  \n",
       "...                                    ...     ...            ...  \n",
       "1000 96       [0:{3}, 1:{0}, 2:{2}, 3:{2}]   False              0  \n",
       "     97       [0:{3}, 1:{0}, 2:{2}, 3:{2}]   False              0  \n",
       "     98       [0:{3}, 1:{0}, 2:{2}, 3:{2}]   False              0  \n",
       "     99       [0:{3}, 1:{0}, 2:{2}, 3:{2}]   False              0  \n",
       "     100      [0:{3}, 1:{0}, 2:{2}, 3:{2}]   False              0  \n",
       "\n",
       "[100100 rows x 7 columns]"
      ]
     },
     "execution_count": 2,
     "metadata": {},
     "output_type": "execute_result"
    }
   ],
   "source": [
    "# test the model with 5 agents and full bike capacity\n",
    "\n",
    "model = m.MyModel(100, seed=1)\n",
    "for i in range(1000):\n",
    "    model.step()\n",
    "\n",
    "agent_data = model.datacollector.get_agent_vars_dataframe()\n",
    "pd.reset_option('display.max_rows', None)\n",
    "agent_data[['Distance_Left', \"Position\", 'Intermediate_Node', 'Destination', 'All Station Capacity', 'Biking', 'Park Failures']]\n",
    "\n",
    "# print the 1000 index\n",
    "\n"
   ]
  },
  {
   "cell_type": "code",
   "execution_count": 3,
   "metadata": {},
   "outputs": [
    {
     "data": {
      "text/plain": [
       "(np.float64(105280.0), 92745, np.float64(0.8809365501519757))"
      ]
     },
     "execution_count": 3,
     "metadata": {},
     "output_type": "execute_result"
    }
   ],
   "source": [
    "model.time_saved_ratio()"
   ]
  },
  {
   "cell_type": "code",
   "execution_count": 4,
   "metadata": {},
   "outputs": [
    {
     "name": "stdout",
     "output_type": "stream",
     "text": [
      "Station 0 has 3 bikes\n",
      "Station 1 has 3 bikes\n",
      "Station 2 has 3 bikes\n",
      "Station 3 has 3 bikes\n"
     ]
    },
    {
     "data": {
      "image/png": "[encoded data removed]",
      "text/plain": [
       "<Figure size 640x480 with 1 Axes>"
      ]
     },
     "metadata": {},
     "output_type": "display_data"
    }
   ],
   "source": [
    "n_stations = 4\n",
    "G, total_nodes = ne.basic_graph()\n",
    "pos = {i: total_nodes[i] for i in range(total_nodes.shape[0])}\n",
    "colors = ['r' if G.nodes[i]['type'] == 'destination' else 'b' for i in G.nodes]\n",
    "nx.draw_networkx(G, pos, node_color=colors, with_labels=True)\n",
    "# print the number of bikes at each station\n",
    "for i in range(n_stations):\n",
    "    print('Station', i, 'has', G.nodes[i]['data'].available_bikes, 'bikes')"
   ]
  },
  {
   "cell_type": "code",
   "execution_count": 5,
   "metadata": {},
   "outputs": [
    {
     "name": "stdout",
     "output_type": "stream",
     "text": [
      "{0: {'pos': (-4.5, 0), 'type': 'destination', 'data': None}, 1: {'pos': (4.5, 0), 'type': 'destination', 'data': None}}\n"
     ]
    },
    {
     "data": {
      "image/png": "[encoded data removed]",
      "text/plain": [
       "<Figure size 640x480 with 1 Axes>"
      ]
     },
     "metadata": {},
     "output_type": "display_data"
    }
   ],
   "source": [
    "destinations_coords = [\n",
    "    (0, -4.5), #McCombs\n",
    "    (0, 4.5) #Target\n",
    "]\n",
    "\n",
    "G,s,d = gf.create_graph_from_coordinates([], destinations_coords)\n",
    "#print(s)\n",
    "#print(d)\n",
    "\n",
    "pos = {i: d[\"Destination \" + str(i+1)] for i in range(len(d))}\n",
    "print(pos)\n",
    "colors = ['r' if G.nodes[i]['type'] == 'destination' else 'b' for i in G.nodes]\n",
    "nx.draw_networkx(G, {\"Destination 1\": [0, -4.5], \"Destination 2\": [0, 4.5]}, node_color = colors, with_labels=True)\n",
    "\n"
   ]
  },
  {
   "cell_type": "code",
   "execution_count": 11,
   "metadata": {},
   "outputs": [
    {
     "name": "stdout",
     "output_type": "stream",
     "text": [
      "0.42962962962962964\n"
     ]
    },
    {
     "data": {
      "application/vnd.jupyter.widget-view+json": {
       "model_id": "d95140965af746308ae319d0b530ac3a",
       "version_major": 2,
       "version_minor": 0
      },
      "text/plain": [
       "  0%|          | 0/50 [00:00<?, ?it/s]"
      ]
     },
     "metadata": {},
     "output_type": "display_data"
    },
    {
     "name": "stdout",
     "output_type": "stream",
     "text": [
      "Iteration 0: Best fitness: 0.4888888888888889\n",
      "Iteration 10: Best fitness: 0.4888888888888889\n",
      "Iteration 20: Best fitness: 0.4282051282051282\n",
      "Iteration 30: Best fitness: 0.4170940170940171\n",
      "Iteration 40: Best fitness: 0.4170940170940171\n",
      "0.4170940170940171\n",
      "[(np.float64(-1.2182304098290493), np.float64(6.087506817316901)), (np.float64(-3.6329743227101776), np.float64(-5.35710198989356))]\n"
     ]
    }
   ],
   "source": [
    "destinations = [i for i in G.nodes if G.nodes[i]['type'] == 'destination']\n",
    "\n",
    "#destinationcoords = [(pos[i][0], pos[i][1]) for i in destinations]\n",
    "destinationcoords = [(0, -4.5), (0, 4.5)]\n",
    "G,s,d = gf.create_graph_from_coordinates([], destinationcoords)\n",
    "citymap = [(-6,-6), (6,6)] + destinationcoords\n",
    "w = [0.5, 0.5]\n",
    "def fitness(coordinatelist):\n",
    "    destinations = coordinatelist[\"destination\"]\n",
    "    stations = coordinatelist[\"station\"]\n",
    "    G, s, d, = gf.create_graph_from_coordinates(stations, destinations)\n",
    "    model = m.MyModel(30, seed=1, G=G, weights = w)\n",
    "    for i in range(100):\n",
    "        model.step()\n",
    "    return model.time_saved_ratio()[2]\n",
    "\n",
    "print(fitness({\"destination\": destinationcoords, \"station\": destinationcoords}))\n",
    "\n",
    "optimizer = ps.PSO(citymap, fitness, 0.9,1.4,1.5)\n",
    "bestpos, bestfit = optimizer.optimize(20, 2, 50)\n",
    "print(bestfit)\n",
    "stations = [(bestpos[i], bestpos[i+1]) for i in range(0, len(bestpos), 2)]\n",
    "print(stations)\n",
    "G, s, d, = gf.create_graph_from_coordinates(stations, destinationcoords)"
   ]
  },
  {
   "cell_type": "code",
   "execution_count": 12,
   "metadata": {},
   "outputs": [
    {
     "data": {
      "text/plain": [
       "<matplotlib.collections.PathCollection at 0x2c1a8b43fe0>"
      ]
     },
     "execution_count": 12,
     "metadata": {},
     "output_type": "execute_result"
    },
    {
     "data": {
      "image/png": "[encoded data removed]",
      "text/plain": [
       "<Figure size 640x480 with 1 Axes>"
      ]
     },
     "metadata": {},
     "output_type": "display_data"
    }
   ],
   "source": [
    "x = [i[0] for i in stations] + [i[0] for i in destinationcoords]\n",
    "y = [i[1] for i in stations] + [i[1] for i in destinationcoords]\n",
    "plt.scatter(x,y)"
   ]
  }
 ],
 "metadata": {
  "kernelspec": {
   "display_name": "Python 3",
   "language": "python",
   "name": "python3"
  },
  "language_info": {
   "codemirror_mode": {
    "name": "ipython",
    "version": 3
   },
   "file_extension": ".py",
   "mimetype": "text/x-python",
   "name": "python",
   "nbconvert_exporter": "python",
   "pygments_lexer": "ipython3",
   "version": "3.12.4"
  }
 },
 "nbformat": 4,
 "nbformat_minor": 2
}
