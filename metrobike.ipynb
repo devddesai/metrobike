{
 "cells": [
  {
   "cell_type": "code",
   "execution_count": 1,
   "metadata": {},
   "outputs": [
    {
     "name": "stdout",
     "output_type": "stream",
     "text": [
      "Could not import SolaraViz. If you need it, install with 'pip install --pre mesa[viz]'\n"
     ]
    }
   ],
   "source": [
    "from mesa import Agent, Model\n",
    "from mesa.space import NetworkGrid\n",
    "from mesa.time import RandomActivation\n",
    "from mesa.datacollection import DataCollector\n",
    "import networkx as nx\n",
    "import graph_init\n",
    "import pandas as pd"
   ]
  },
  {
   "cell_type": "code",
   "execution_count": 16,
   "metadata": {},
   "outputs": [],
   "source": [
    "class Commuter(Agent):\n",
    "    def __init__(self, model, distance_left, destination):\n",
    "        super().__init__(model)\n",
    "        self.destination = destination\n",
    "        self.distance_left = distance_left\n",
    "        self.current_pos = self.model.get_node(self)\n",
    "        \n",
    "    def step(self):\n",
    "        self.current_pos = self.model.get_node(self)  # Update the agent's current position\n",
    "        if self.distance_left==0:\n",
    "            # move the agent to the destination\n",
    "            self.model.grid.move_agent(self, self.destination)\n",
    "            self.current_pos = self.model.get_node(self)\n",
    "            self.destination = self.model.random.choice([n for n in self.model.grid.G.nodes() if n != self.current_pos])\n",
    "            self.distance_left = len(self.model.path_finder(self.current_pos, self.destination))\n",
    "        self.distance_left -= 1  # Update the distance left to the destination\n",
    "    \n",
    "    def get_agent_position(self):\n",
    "    # needed seperate function for data collector\n",
    "        return self.current_pos\n",
    "    \n",
    "    def get_distance_left(self):\n",
    "    # needed seperate function for data collector\n",
    "        return self.distance_left\n",
    "    \n",
    "    def get_agent_destination(self):\n",
    "        return self.destination\n",
    "\n",
    "\n",
    "class MyModel(Model):\n",
    "    def __init__(self, n_agents, nodes=10, max_distance=5):\n",
    "        super().__init__()\n",
    "        self.grid = NetworkGrid(graph_init.create_random_graph(nodes,max_distance))\n",
    "        self.schedule = RandomActivation(self)\n",
    "        self.datacollector = DataCollector(\n",
    "            agent_reporters={\"Position\": lambda agent: agent.get_agent_position(),\n",
    "                             \"Distance_Left\": lambda agent: agent.get_distance_left(),\n",
    "                             \"Destination\": lambda agent: agent.get_agent_destination()})\n",
    "        \n",
    "\n",
    "        # Create agents and place them on the grid\n",
    "        for i in range(1, n_agents + 1):\n",
    "            node_id = self.random.choice(list(self.grid.G.nodes()))\n",
    "            destination_node = self.random.choice([n for n in self.grid.G.nodes() if n != node_id])\n",
    "            distance_left = len(self.path_finder(node_id, destination_node))\n",
    "            commuter = Commuter(self, distance_left=distance_left, destination=destination_node)\n",
    "            self.schedule.add(commuter)\n",
    "            self.grid.place_agent(commuter, node_id)\n",
    "            commuter.current_pos = node_id\n",
    "            # print(f\"get_node_test: Agent {commuter.unique_id} placed at node {self.get_node(commuter)}\")\n",
    "            # print(f\"Agent {commuter.unique_id} placed at node {node_id}\")\n",
    "        self.datacollector.collect(self)\n",
    "        \n",
    "\n",
    "    def path_finder(self, start, end):\n",
    "        return nx.shortest_path(self.grid.G, source=start, target=end, weight='weight')\n",
    "    \n",
    "    def get_node(self, agent):\n",
    "        # Iterate over all node IDs in the graph\n",
    "        for node_id in self.grid.G.nodes():\n",
    "            # Get the agents at the current node\n",
    "            agents_at_node = self.grid.get_cell_list_contents([node_id])\n",
    "            # If the given agent is found at this node, return the node ID\n",
    "            if agent in agents_at_node:\n",
    "                return node_id\n",
    "        return None  # If the agent is not found in any node\n",
    "\n",
    "\n",
    "    def step(self):\n",
    "        # print(\"Model step\")\n",
    "        self.schedule.step()\n",
    "        self.datacollector.collect(self)"
   ]
  },
  {
   "cell_type": "code",
   "execution_count": 19,
   "metadata": {},
   "outputs": [
    {
     "name": "stdout",
     "output_type": "stream",
     "text": [
      "              Position  Distance_Left  Destination\n",
      "Step AgentID                                      \n",
      "0    8               1              3            2\n",
      "1    8               1              2            2\n",
      "2    8               1              1            2\n",
      "3    8               1              0            2\n",
      "4    8               2              2            7\n",
      "5    8               2              1            7\n"
     ]
    },
    {
     "name": "stderr",
     "output_type": "stream",
     "text": [
      "/tmp/ipykernel_936/3398350034.py:34: DeprecationWarning: The time module and all its Schedulers are deprecated and will be removed in Mesa 3.1. They can be replaced with AgentSet functionality. See the migration guide for details. https://mesa.readthedocs.io/latest/migration_guide.html#time-and-schedulers\n",
      "  self.schedule = RandomActivation(self)\n"
     ]
    }
   ],
   "source": [
    "model = MyModel(20)\n",
    "for i in range(5):\n",
    "    model.step()\n",
    "agent_data = model.datacollector.get_agent_vars_dataframe()\n",
    "agent_id = 8\n",
    "agent_specific_data = agent_data[agent_data.index.get_level_values('AgentID') == agent_id]\n",
    "\n",
    "# Print the filtered DataFrame\n",
    "print(agent_specific_data)"
   ]
  }
 ],
 "metadata": {
  "kernelspec": {
   "display_name": "base",
   "language": "python",
   "name": "python3"
  },
  "language_info": {
   "codemirror_mode": {
    "name": "ipython",
    "version": 3
   },
   "file_extension": ".py",
   "mimetype": "text/x-python",
   "name": "python",
   "nbconvert_exporter": "python",
   "pygments_lexer": "ipython3",
   "version": "3.12.2"
  }
 },
 "nbformat": 4,
 "nbformat_minor": 2
}
