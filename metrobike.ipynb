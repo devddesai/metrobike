{
 "cells": [
  {
   "cell_type": "code",
   "execution_count": 66,
   "metadata": {},
   "outputs": [],
   "source": [
    "from mesa import Agent, Model\n",
    "from mesa.space import NetworkGrid\n",
    "from mesa.time import RandomActivation\n",
    "from mesa.datacollection import DataCollector\n",
    "import networkx as nx\n",
    "import graph_init"
   ]
  },
  {
   "cell_type": "code",
   "execution_count": 68,
   "metadata": {},
   "outputs": [],
   "source": [
    "class Commuter(Agent):\n",
    "    def __init__(self, model, distance_left, destination):\n",
    "        super().__init__(model)\n",
    "        self.destination = destination\n",
    "        self.distance_left = distance_left\n",
    "        self.current_pos = self.model.get_node(self)\n",
    "        \n",
    "    def step(self):\n",
    "        self.current_pos = self.model.get_node(self)  # Update the agent's current position\n",
    "        if self.distance_left==0:\n",
    "            self.model.schedule.remove(self)\n",
    "        self.distance_left -= 1  # Update the distance left to the destination\n",
    "    \n",
    "    def get_agent_position(self):\n",
    "    # needed seperate function for data collector\n",
    "        return self.current_pos\n",
    "    \n",
    "    def get_distance_left(self):\n",
    "    # needed seperate function for data collector\n",
    "        return self.distance_left\n",
    "\n",
    "\n",
    "class MyModel(Model):\n",
    "    def __init__(self, n_agents, nodes=10, max_distance=5):\n",
    "        super().__init__()\n",
    "        self.grid = NetworkGrid(graph_init.create_random_graph(nodes,max_distance))\n",
    "        self.schedule = RandomActivation(self)\n",
    "        self.datacollector = DataCollector(\n",
    "            agent_reporters={\"Position\": get_agent_position, \"Distance left\": get_distance_left}\n",
    "        )\n",
    "\n",
    "        # Create agents and place them on the grid\n",
    "        for i in range(1, n_agents + 1):\n",
    "            node_id = self.random.choice(list(self.grid.G.nodes()))\n",
    "            destination_node = self.random.choice([n for n in self.grid.G.nodes() if n != node_id])\n",
    "            distance_left = len(self.path_finder(node_id, destination_node))\n",
    "            commuter = Commuter(self, distance_left=distance_left, destination=destination_node)\n",
    "            self.schedule.add(commuter)\n",
    "            self.grid.place_agent(commuter, node_id)\n",
    "            commuter.current_pos = node_id\n",
    "            # print(f\"get_node_test: Agent {commuter.unique_id} placed at node {self.get_node(commuter)}\")\n",
    "            print(f\"Agent {commuter.unique_id} placed at node {node_id}\")\n",
    "        \n",
    "        \n",
    "\n",
    "    def path_finder(self, start, end):\n",
    "        return nx.shortest_path(self.grid.G, source=start, target=end, weight='weight')\n",
    "    \n",
    "    def get_node(self, agent):\n",
    "        # Iterate over all node IDs in the graph\n",
    "        for node_id in self.grid.G.nodes():\n",
    "            # Get the agents at the current node\n",
    "            agents_at_node = self.grid.get_cell_list_contents([node_id])\n",
    "            # If the given agent is found at this node, return the node ID\n",
    "            if agent in agents_at_node:\n",
    "                return node_id\n",
    "        return None  # If the agent is not found in any node\n",
    "\n",
    "\n",
    "    def step(self):\n",
    "        print(\"Model step\")\n",
    "        self.schedule.step()"
   ]
  },
  {
   "cell_type": "code",
   "execution_count": 69,
   "metadata": {},
   "outputs": [
    {
     "name": "stderr",
     "output_type": "stream",
     "text": [
      "/tmp/ipykernel_5980/1971600406.py:27: DeprecationWarning: The time module and all its Schedulers are deprecated and will be removed in Mesa 3.1. They can be replaced with AgentSet functionality. See the migration guide for details. https://mesa.readthedocs.io/latest/migration_guide.html#time-and-schedulers\n",
      "  self.schedule = RandomActivation(self)\n"
     ]
    },
    {
     "ename": "NameError",
     "evalue": "name 'get_agent_position' is not defined",
     "output_type": "error",
     "traceback": [
      "\u001b[0;31m---------------------------------------------------------------------------\u001b[0m",
      "\u001b[0;31mNameError\u001b[0m                                 Traceback (most recent call last)",
      "Cell \u001b[0;32mIn[69], line 1\u001b[0m\n\u001b[0;32m----> 1\u001b[0m model \u001b[38;5;241m=\u001b[39m \u001b[43mMyModel\u001b[49m\u001b[43m(\u001b[49m\u001b[38;5;241;43m20\u001b[39;49m\u001b[43m)\u001b[49m\n\u001b[1;32m      2\u001b[0m model\u001b[38;5;241m.\u001b[39mstep()\n",
      "Cell \u001b[0;32mIn[68], line 29\u001b[0m, in \u001b[0;36mMyModel.__init__\u001b[0;34m(self, n_agents, nodes, max_distance)\u001b[0m\n\u001b[1;32m     26\u001b[0m \u001b[38;5;28mself\u001b[39m\u001b[38;5;241m.\u001b[39mgrid \u001b[38;5;241m=\u001b[39m NetworkGrid(graph_init\u001b[38;5;241m.\u001b[39mcreate_random_graph(nodes,max_distance))\n\u001b[1;32m     27\u001b[0m \u001b[38;5;28mself\u001b[39m\u001b[38;5;241m.\u001b[39mschedule \u001b[38;5;241m=\u001b[39m RandomActivation(\u001b[38;5;28mself\u001b[39m)\n\u001b[1;32m     28\u001b[0m \u001b[38;5;28mself\u001b[39m\u001b[38;5;241m.\u001b[39mdatacollector \u001b[38;5;241m=\u001b[39m DataCollector(\n\u001b[0;32m---> 29\u001b[0m     agent_reporters\u001b[38;5;241m=\u001b[39m{\u001b[38;5;124m\"\u001b[39m\u001b[38;5;124mPosition\u001b[39m\u001b[38;5;124m\"\u001b[39m: \u001b[43mget_agent_position\u001b[49m, \u001b[38;5;124m\"\u001b[39m\u001b[38;5;124mDistance left\u001b[39m\u001b[38;5;124m\"\u001b[39m: get_distance_left}\n\u001b[1;32m     30\u001b[0m )\n\u001b[1;32m     32\u001b[0m \u001b[38;5;66;03m# Create agents and place them on the grid\u001b[39;00m\n\u001b[1;32m     33\u001b[0m \u001b[38;5;28;01mfor\u001b[39;00m i \u001b[38;5;129;01min\u001b[39;00m \u001b[38;5;28mrange\u001b[39m(\u001b[38;5;241m1\u001b[39m, n_agents \u001b[38;5;241m+\u001b[39m \u001b[38;5;241m1\u001b[39m):\n",
      "\u001b[0;31mNameError\u001b[0m: name 'get_agent_position' is not defined"
     ]
    }
   ],
   "source": [
    "model = MyModel(20)\n",
    "model.step()"
   ]
  }
 ],
 "metadata": {
  "kernelspec": {
   "display_name": "base",
   "language": "python",
   "name": "python3"
  },
  "language_info": {
   "codemirror_mode": {
    "name": "ipython",
    "version": 3
   },
   "file_extension": ".py",
   "mimetype": "text/x-python",
   "name": "python",
   "nbconvert_exporter": "python",
   "pygments_lexer": "ipython3",
   "version": "3.12.2"
  }
 },
 "nbformat": 4,
 "nbformat_minor": 2
}
