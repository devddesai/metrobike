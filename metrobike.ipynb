{
 "cells": [
  {
   "cell_type": "code",
   "execution_count": 3,
   "metadata": {},
   "outputs": [],
   "source": [
    "from mesa import Agent, Model\n",
    "from mesa.space import NetworkGrid\n",
    "from mesa.time import RandomActivation\n",
    "import networkx as nx\n",
    "import graph_init"
   ]
  },
  {
   "cell_type": "code",
   "execution_count": null,
   "metadata": {},
   "outputs": [],
   "source": [
    "class Commuter(Agent):\n",
    "    def __init__(self, model, distance_left, destination):\n",
    "        super().__init__(model)\n",
    "        self.distance_left = distance_left\n",
    "        self.destination = destination\n",
    "\n",
    "    def step(self):\n",
    "        current_pos = self.position  # Access the agent's current position\n",
    "        possible_moves = list(self.model.grid.get_neighbors(current_pos))\n",
    "        if possible_moves:\n",
    "            # random walk\n",
    "            new_pos = self.model.random.choice(possible_moves)\n",
    "            self.model.grid.move_agent(self, new_pos)\n",
    "            print(f\"Agent moved from node {current_pos} to node {new_pos}\")\n",
    "        else:\n",
    "            print(f\"Agent at node {current_pos} has no neighbors to move to\")\n",
    "\n",
    "class MyModel(Model):\n",
    "    def __init__(self, n_agents):\n",
    "        super().__init__()\n",
    "        self.grid = NetworkGrid(graph_init.create_random_graph(10,5))\n",
    "        self.schedule = RandomActivation(self)\n",
    "\n",
    "        # Create agents and place them on the grid\n",
    "        for i in range(1, n_agents + 1):\n",
    "            node_id = self.random.choice(list(g.nodes()))\n",
    "            a = Commute, se, ilf)\n",
    "            self.schedule.add(a)\n",
    "            self.grid.place_agent(a, node_id)\n",
    "            print(f\"Agent {a.unique_id} placed at node {node_id}\")\n",
    "\n",
    "    def step(self):\n",
    "        print(\"Model step\")\n",
    "        self.schedule.step()"
   ]
  }
 ],
 "metadata": {
  "kernelspec": {
   "display_name": "base",
   "language": "python",
   "name": "python3"
  },
  "language_info": {
   "codemirror_mode": {
    "name": "ipython",
    "version": 3
   },
   "file_extension": ".py",
   "mimetype": "text/x-python",
   "name": "python",
   "nbconvert_exporter": "python",
   "pygments_lexer": "ipython3",
   "version": "3.12.2"
  }
 },
 "nbformat": 4,
 "nbformat_minor": 2
}
