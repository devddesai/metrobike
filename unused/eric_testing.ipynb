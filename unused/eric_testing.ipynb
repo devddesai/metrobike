{
 "cells": [
  {
   "cell_type": "code",
   "execution_count": null,
   "metadata": {},
   "outputs": [],
   "source": [
    "destinations = [i for i in G.nodes if G.nodes[i]['type'] == 'destination']\n",
    "\n",
    "destinationcoords = [(pos[i][0], pos[i][1]) for i in destinations]\n",
    "G,s,d = gf.create_graph_from_coordinates([], destinationcoords)\n",
    "citymap = [(-10,-10), (10,10)] + destinationcoords\n",
    "\n",
    "def fitness(coordinatelist):\n",
    "    destinations = coordinatelist[\"destination\"]\n",
    "    stations = coordinatelist[\"station\"]\n",
    "    G, s, d, = gf.create_graph_from_coordinates(stations, destinations)\n",
    "    model = MyModel(100, seed=1, G=G)\n",
    "    for i in range(1000):\n",
    "        model.step()\n",
    "    return model.time_saved_ratio()[2]\n",
    "\n",
    "optimizer = ps.PSO(citymap, fitness, 0.5,0.5,0.5)\n",
    "bestpos, bestfit = optimizer.optimize(5, 4, 100)\n",
    "print(bestfit)\n",
    "stations = [(bestpos[i], bestpos[i+1]) for i in range(0, len(bestpos), 2)]\n",
    "\n",
    "G, s, d, = gf.create_graph_from_coordinates(stations, destinationcoords)"
   ]
  }
 ],
 "metadata": {
  "language_info": {
   "name": "python"
  }
 },
 "nbformat": 4,
 "nbformat_minor": 2
}
